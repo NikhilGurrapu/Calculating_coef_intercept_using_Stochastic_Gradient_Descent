{
  "nbformat": 4,
  "nbformat_minor": 0,
  "metadata": {
    "colab": {
      "provenance": [],
      "authorship_tag": "ABX9TyNFob3QJ4bD/0ksHkh5DzDx",
      "include_colab_link": true
    },
    "kernelspec": {
      "name": "python3",
      "display_name": "Python 3"
    },
    "language_info": {
      "name": "python"
    }
  },
  "cells": [
    {
      "cell_type": "markdown",
      "metadata": {
        "id": "view-in-github",
        "colab_type": "text"
      },
      "source": [
        "<a href=\"https://colab.research.google.com/github/NikhilGurrapu/Calculating_coef_intercept_using_Stochastic_Gradient_Descent/blob/main/Calculating_coef_intercept_using_Stochastic_Gradient_Descent.ipynb\" target=\"_parent\"><img src=\"https://colab.research.google.com/assets/colab-badge.svg\" alt=\"Open In Colab\"/></a>"
      ]
    },
    {
      "cell_type": "markdown",
      "source": [
        "# Importing required Libraries"
      ],
      "metadata": {
        "id": "UdcV2OhtqKDZ"
      }
    },
    {
      "cell_type": "code",
      "execution_count": 399,
      "metadata": {
        "id": "yvL1vdnmcieU"
      },
      "outputs": [],
      "source": [
        "from sklearn.datasets import load_diabetes\n",
        "\n",
        "import numpy as np\n",
        "from sklearn.linear_model import LinearRegression\n",
        "from sklearn.metrics import r2_score\n",
        "from sklearn.model_selection import train_test_split"
      ]
    },
    {
      "cell_type": "code",
      "source": [
        "X,y = load_diabetes(return_X_y=True)"
      ],
      "metadata": {
        "id": "K6tHYnundH_Y"
      },
      "execution_count": 400,
      "outputs": []
    },
    {
      "cell_type": "code",
      "source": [
        "print(X.shape,y.shape)"
      ],
      "metadata": {
        "colab": {
          "base_uri": "https://localhost:8080/"
        },
        "id": "DD9jbFGpdRZD",
        "outputId": "dba4762b-fd5b-48c1-f0cd-707a23829086"
      },
      "execution_count": 401,
      "outputs": [
        {
          "output_type": "stream",
          "name": "stdout",
          "text": [
            "(442, 10) (442,)\n"
          ]
        }
      ]
    },
    {
      "cell_type": "markdown",
      "source": [
        "# Splitting train test set"
      ],
      "metadata": {
        "id": "KMuwGbfNqVi1"
      }
    },
    {
      "cell_type": "code",
      "source": [
        "X_train,X_test,y_train,y_test=train_test_split(X,y,test_size=0.2,random_state=3)"
      ],
      "metadata": {
        "id": "IfkJTV13dUNy"
      },
      "execution_count": 402,
      "outputs": []
    },
    {
      "cell_type": "code",
      "source": [
        "print(X_train.shape,X_test.shape,y_train.shape,y_test.shape)"
      ],
      "metadata": {
        "colab": {
          "base_uri": "https://localhost:8080/"
        },
        "id": "3TSvyjNaddAT",
        "outputId": "d708d7da-9452-41cb-93fd-d9787c754565"
      },
      "execution_count": 403,
      "outputs": [
        {
          "output_type": "stream",
          "name": "stdout",
          "text": [
            "(353, 10) (89, 10) (353,) (89,)\n"
          ]
        }
      ]
    },
    {
      "cell_type": "markdown",
      "source": [
        "# Building LinearRegression Model"
      ],
      "metadata": {
        "id": "OWD-U8hjqajT"
      }
    },
    {
      "cell_type": "code",
      "source": [
        "reg=LinearRegression()\n",
        "reg.fit(X_train,y_train)\n",
        "y_pred=reg.predict(X_test)\n",
        "r2_score(y_test,y_pred)"
      ],
      "metadata": {
        "colab": {
          "base_uri": "https://localhost:8080/"
        },
        "id": "g0vJ6pAvdkVA",
        "outputId": "30b7dfb8-7096-4bfa-d489-c96c2db314d2"
      },
      "execution_count": 404,
      "outputs": [
        {
          "output_type": "execute_result",
          "data": {
            "text/plain": [
              "0.4161792211496943"
            ]
          },
          "metadata": {},
          "execution_count": 404
        }
      ]
    },
    {
      "cell_type": "code",
      "source": [
        "print(reg.coef_,\"\\n\\n\",reg.intercept_)"
      ],
      "metadata": {
        "colab": {
          "base_uri": "https://localhost:8080/"
        },
        "id": "JAy5whacdynx",
        "outputId": "e9366788-0345-4d56-aa94-a2263e8785c8"
      },
      "execution_count": 405,
      "outputs": [
        {
          "output_type": "stream",
          "name": "stdout",
          "text": [
            "[  -1.13744712 -212.8867836   540.45536994  345.20621542 -938.23814645\n",
            "  516.62060367  172.85885498  267.87535242  732.63230159   70.07849485] \n",
            "\n",
            " 153.13441535285003\n"
          ]
        }
      ]
    },
    {
      "cell_type": "markdown",
      "source": [
        "# Building own Stochastic Gradient Descent class"
      ],
      "metadata": {
        "id": "Nq13bsZiqkUm"
      }
    },
    {
      "cell_type": "code",
      "source": [
        "class SGDRegressor:\n",
        "  def __init__(self,learning_rate,epochs):\n",
        "    self.intercept_=None\n",
        "    self.lr=learning_rate\n",
        "    self.epochs=epochs\n",
        "    self.coef_=None\n",
        "  def fit(self,X_train,y_train):\n",
        "    self.intercept_=0\n",
        "    self.coef_=np.ones(X_train.shape[1])\n",
        "\n",
        "    for i in range(self.epochs):\n",
        "      for j in range(X_train.shape[0]):\n",
        "        idx = np.random.randint(0,X_train.shape[0])\n",
        "\n",
        "        y_hat = np.dot(X_train[idx],self.coef_) + self.intercept_\n",
        "        intercept_der = -2 * (y_train[idx] - y_hat)\n",
        "        self.intercept_ = self.intercept_ - (self.lr * intercept_der)\n",
        "\n",
        "        coef_der = -2 * np.dot((y_train[idx] - y_hat),X_train[idx])\n",
        "        self.coef_ = self.coef_ - (self.lr * coef_der)\n",
        "    \n",
        "    print(self.coef_,\"\\n\\n\",self.intercept_)\n",
        "  \n",
        "  def predict(self,X_test):\n",
        "    return np.dot(X_test,self.coef_) + self.intercept_"
      ],
      "metadata": {
        "id": "3tVKEMoxd8bv"
      },
      "execution_count": 406,
      "outputs": []
    },
    {
      "cell_type": "code",
      "source": [
        "sgd = SGDRegressor(learning_rate=0.01,epochs=173)"
      ],
      "metadata": {
        "id": "Po4sxqbTgNTc"
      },
      "execution_count": 407,
      "outputs": []
    },
    {
      "cell_type": "code",
      "source": [
        "sgd.fit(X_train,y_train)"
      ],
      "metadata": {
        "colab": {
          "base_uri": "https://localhost:8080/"
        },
        "id": "J0D4BEb-n3sq",
        "outputId": "f1b8a7d9-e172-4066-d1e8-35fad433f640"
      },
      "execution_count": 408,
      "outputs": [
        {
          "output_type": "stream",
          "name": "stdout",
          "text": [
            "[  -1.88808985 -184.93915474  518.72515694  325.86808238  -88.02506325\n",
            " -133.78042949 -228.95102163  149.48472092  399.83858288  118.14407241] \n",
            "\n",
            " 153.78696298596884\n"
          ]
        }
      ]
    },
    {
      "cell_type": "code",
      "source": [
        "y_pred=sgd.predict(X_test)"
      ],
      "metadata": {
        "id": "fUCUzCSwgXFv"
      },
      "execution_count": 409,
      "outputs": []
    },
    {
      "cell_type": "code",
      "source": [
        "r2_score(y_test,y_pred)"
      ],
      "metadata": {
        "colab": {
          "base_uri": "https://localhost:8080/"
        },
        "id": "ekCmTW9xgcqj",
        "outputId": "23463087-9ed0-4419-efd2-025b06a67702"
      },
      "execution_count": 410,
      "outputs": [
        {
          "output_type": "execute_result",
          "data": {
            "text/plain": [
              "0.4131841815011281"
            ]
          },
          "metadata": {},
          "execution_count": 410
        }
      ]
    }
  ]
}